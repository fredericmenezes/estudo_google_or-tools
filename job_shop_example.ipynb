{
  "nbformat": 4,
  "nbformat_minor": 0,
  "metadata": {
    "colab": {
      "provenance": [],
      "authorship_tag": "ABX9TyOfsywfogFBn41ZDXSuW5RT",
      "include_colab_link": true
    },
    "kernelspec": {
      "name": "python3",
      "display_name": "Python 3"
    },
    "language_info": {
      "name": "python"
    }
  },
  "cells": [
    {
      "cell_type": "markdown",
      "metadata": {
        "id": "view-in-github",
        "colab_type": "text"
      },
      "source": [
        "<a href=\"https://colab.research.google.com/github/fredericmenezes/estudo_google_or-tools/blob/main/job_shop_example.ipynb\" target=\"_parent\"><img src=\"https://colab.research.google.com/assets/colab-badge.svg\" alt=\"Open In Colab\"/></a>"
      ]
    },
    {
      "cell_type": "markdown",
      "source": [
        "# job_shop_example"
      ],
      "metadata": {
        "id": "bGDbeslst-et"
      }
    },
    {
      "cell_type": "markdown",
      "source": [
        "<table align=\"left\">\n",
        "<td>\n",
        "<a href=\"https://colab.research.google.com/github/fredericmenezes/estudo_google_or-tools/blob/main/job_shop_example.ipynb\"><img src=\"https://raw.githubusercontent.com/fredericmenezes/estudo_google_or-tools/main/img/colab_32px.png\"/>Run in Google Colab</a>\n",
        "</td>\n",
        "<td>\n",
        "<a href=\"https://github.com/fredericmenezes/estudo_google_or-tools/blob/main/job_shop_example.ipynb\"><img src=\"https://raw.githubusercontent.com/fredericmenezes/estudo_google_or-tools/main/img/github_32px.png\"/>View source on GitHub</a>\n",
        "</td>\n",
        "</table>"
      ],
      "metadata": {
        "id": "Zuqi026uuQGE"
      }
    },
    {
      "cell_type": "markdown",
      "source": [
        "First, you must install [ortools](https://pypi.org/project/ortools/) package in this colab."
      ],
      "metadata": {
        "id": "A2AQ0EuVQ0sK"
      }
    },
    {
      "cell_type": "code",
      "execution_count": 2,
      "metadata": {
        "colab": {
          "base_uri": "https://localhost:8080/"
        },
        "id": "jOTPSvoktOOo",
        "outputId": "535e52bc-025f-4db4-d5c9-f8e65c51076e"
      },
      "outputs": [
        {
          "output_type": "stream",
          "name": "stdout",
          "text": [
            "Looking in indexes: https://pypi.org/simple, https://us-python.pkg.dev/colab-wheels/public/simple/\n",
            "Requirement already satisfied: ortools in /usr/local/lib/python3.8/dist-packages (9.5.2237)\n",
            "Requirement already satisfied: protobuf>=4.21.5 in /usr/local/lib/python3.8/dist-packages (from ortools) (4.22.0)\n",
            "Requirement already satisfied: absl-py>=0.13 in /usr/local/lib/python3.8/dist-packages (from ortools) (1.4.0)\n",
            "Requirement already satisfied: numpy>=1.13.3 in /usr/local/lib/python3.8/dist-packages (from ortools) (1.22.4)\n"
          ]
        }
      ],
      "source": [
        "!pip install ortools"
      ]
    },
    {
      "cell_type": "markdown",
      "source": [
        "To access the template that is stored in GitHub repository, you can clone it inside the project_folder using the following:"
      ],
      "metadata": {
        "id": "icxRyqpfaQoQ"
      }
    },
    {
      "cell_type": "code",
      "source": [
        "!git clone https://github.com/fredericmenezes/estudo_google_or-tools.git"
      ],
      "metadata": {
        "colab": {
          "base_uri": "https://localhost:8080/"
        },
        "id": "WB2mptF9awTs",
        "outputId": "01677c65-777c-49d5-b240-e78212a2db16"
      },
      "execution_count": 5,
      "outputs": [
        {
          "output_type": "stream",
          "name": "stdout",
          "text": [
            "Cloning into 'estudo_google_or-tools'...\n",
            "remote: Enumerating objects: 21, done.\u001b[K\n",
            "remote: Counting objects: 100% (21/21), done.\u001b[K\n",
            "remote: Compressing objects: 100% (16/16), done.\u001b[K\n",
            "remote: Total 21 (delta 4), reused 16 (delta 2), pack-reused 0\u001b[K\n",
            "Unpacking objects: 100% (21/21), 4.38 KiB | 1.09 MiB/s, done.\n"
          ]
        }
      ]
    },
    {
      "cell_type": "markdown",
      "source": [
        "Generic job shop function (accepts any size _m x n_ Matrix)."
      ],
      "metadata": {
        "id": "-pVdT8qlR6Nr"
      }
    },
    {
      "cell_type": "code",
      "source": [
        "import collections\n",
        "import datetime\n",
        "from ortools.sat.python import cp_model\n",
        "\n",
        "def jobshop_scheduler(jobs_data):\n",
        "    # Create the model.\n",
        "    model = cp_model.CpModel()\n",
        "\n",
        "    machines_count = 1 + max(task[0] for job in jobs_data for task in job)\n",
        "    all_machines = range(machines_count)\n",
        "\n",
        "    # Computes horizon dynamically as the sum of all durations.\n",
        "    horizon = sum(task[1] for job in jobs_data for task in job)\n",
        "\n",
        "    # Named tuple to store information about created variables.\n",
        "    task_type = collections.namedtuple('task_type', 'start end interval')\n",
        "    # Named tuple to manipulate solution information.\n",
        "    assigned_task_type = collections.namedtuple('assigned_task_type',\n",
        "                                                'start job index duration')\n",
        "\n",
        "    # Creates job intervals and add to the corresponding machine lists.\n",
        "    all_tasks = {}\n",
        "    machine_to_intervals = collections.defaultdict(list)\n",
        "\n",
        "    for job_id, job in enumerate(jobs_data):\n",
        "        for task_id, task in enumerate(job):\n",
        "            machine = task[0]\n",
        "            duration = task[1]\n",
        "            suffix = '_%i_%i' % (job_id, task_id)\n",
        "            start_var = model.NewIntVar(0, horizon, 'start' + suffix)\n",
        "            end_var = model.NewIntVar(0, horizon, 'end' + suffix)\n",
        "            interval_var = model.NewIntervalVar(start_var, duration, end_var,\n",
        "                                                'interval' + suffix)\n",
        "            all_tasks[job_id, task_id] = task_type(\n",
        "                start=start_var, end=end_var, interval=interval_var)\n",
        "            machine_to_intervals[machine].append(interval_var)\n",
        "\n",
        "    # Create and add disjunctive constraints.\n",
        "    for machine in all_machines:\n",
        "        model.AddNoOverlap(machine_to_intervals[machine])\n",
        "\n",
        "    # Precedences inside a job.\n",
        "    for job_id, job in enumerate(jobs_data):\n",
        "        for task_id in range(len(job) - 1):\n",
        "            model.Add(all_tasks[job_id, task_id +\n",
        "                                1].start >= all_tasks[job_id, task_id].end)\n",
        "\n",
        "    # Makespan objective.\n",
        "    obj_var = model.NewIntVar(0, horizon, 'makespan')\n",
        "    model.AddMaxEquality(obj_var, [\n",
        "        all_tasks[job_id, len(job) - 1].end\n",
        "        for job_id, job in enumerate(jobs_data)\n",
        "    ])\n",
        "    model.Minimize(obj_var)\n",
        "\n",
        "    # Solve model.\n",
        "    solver = cp_model.CpSolver()\n",
        "    status = solver.Solve(model)\n",
        "\n",
        "    if status == cp_model.OPTIMAL or status == cp_model.FEASIBLE:\n",
        "        \n",
        "        # Create one list of assigned tasks per machine.\n",
        "        assigned_jobs = collections.defaultdict(list)\n",
        "        for job_id, job in enumerate(jobs_data):\n",
        "            for task_id, task in enumerate(job):\n",
        "                machine = task[0]\n",
        "                assigned_jobs[machine].append(\n",
        "                    assigned_task_type(\n",
        "                        start=solver.Value(all_tasks[job_id, task_id].start),\n",
        "                        job=job_id,\n",
        "                        index=task_id,\n",
        "                        duration=task[1]))\n",
        "\n",
        "        # Create per machine output lines.\n",
        "        date = datetime.datetime(2023, 2, 28, 1, 0, 0)\n",
        "        output = []\n",
        "        for machine in all_machines:\n",
        "            # Sort by starting time.\n",
        "            assigned_jobs[machine].sort()\n",
        "\n",
        "            for assigned_task in assigned_jobs[machine]:\n",
        "                name = 'job_%i_%i' % (assigned_task.job, assigned_task.index)\n",
        "\n",
        "                start = date + datetime.timedelta(minutes=assigned_task.start)\n",
        "                finish = date + datetime.timedelta(minutes=assigned_task.start + assigned_task.duration)\n",
        "\n",
        "                start_minutes = start - date\n",
        "                finish_minutes = finish - date\n",
        "\n",
        "                start_min = int(start_minutes.total_seconds() / 60)\n",
        "                finish_min = int(finish_minutes.total_seconds() / 60)\n",
        "\n",
        "                output.append(dict(Task='Machine ' + str(machine), Start=start_min, Finish=finish_min, Name=name,\n",
        "                                   Job='Job_' + str(assigned_task.job)))\n",
        "\n",
        "        # Finally print the solution found.\n",
        "        print('Optimal Schedule Length: %i' % solver.ObjectiveValue())\n",
        "        print(output)\n",
        "\n",
        "    return output"
      ],
      "metadata": {
        "id": "6mOc9n4JR9VD"
      },
      "execution_count": 12,
      "outputs": []
    },
    {
      "cell_type": "markdown",
      "source": [
        "Minimal jobshop example."
      ],
      "metadata": {
        "id": "HbhXN4z7SjaQ"
      }
    },
    {
      "cell_type": "code",
      "source": [
        "if __name__ == '__main__':\n",
        "\n",
        "    # Data.\n",
        "    jobs_data = [  # task = (machine_id, processing_time).\n",
        "        [(0, 3), (1, 2), (2, 2)],  # Job0\n",
        "        [(0, 2), (2, 1), (1, 4)],  # Job1\n",
        "        [(1, 4), (2, 3)]  # Job2\n",
        "    ]\n",
        "\n",
        "    jobshop_scheduler(jobs_data)"
      ],
      "metadata": {
        "colab": {
          "base_uri": "https://localhost:8080/"
        },
        "id": "hILhX1PZSPJN",
        "outputId": "d3c883d5-a428-4822-f585-ca63f2bea5d9"
      },
      "execution_count": 13,
      "outputs": [
        {
          "output_type": "stream",
          "name": "stdout",
          "text": [
            "Optimal Schedule Length: 11\n",
            "[{'Task': 'Machine 0', 'Start': 0, 'Finish': 2, 'Name': 'job_1_0', 'Job': 'Job_1'}, {'Task': 'Machine 0', 'Start': 2, 'Finish': 5, 'Name': 'job_0_0', 'Job': 'Job_0'}, {'Task': 'Machine 1', 'Start': 0, 'Finish': 4, 'Name': 'job_2_0', 'Job': 'Job_2'}, {'Task': 'Machine 1', 'Start': 5, 'Finish': 7, 'Name': 'job_0_1', 'Job': 'Job_0'}, {'Task': 'Machine 1', 'Start': 7, 'Finish': 11, 'Name': 'job_1_2', 'Job': 'Job_1'}, {'Task': 'Machine 2', 'Start': 2, 'Finish': 3, 'Name': 'job_1_1', 'Job': 'Job_1'}, {'Task': 'Machine 2', 'Start': 4, 'Finish': 7, 'Name': 'job_2_1', 'Job': 'Job_2'}, {'Task': 'Machine 2', 'Start': 7, 'Finish': 9, 'Name': 'job_0_2', 'Job': 'Job_0'}]\n"
          ]
        }
      ]
    },
    {
      "cell_type": "markdown",
      "source": [
        "Another example using csv templates."
      ],
      "metadata": {
        "id": "r2ipClt8baRn"
      }
    },
    {
      "cell_type": "code",
      "source": [
        "import csv\n",
        "\n",
        "def is_number(string):\n",
        "    try:\n",
        "        int(string)\n",
        "        return True\n",
        "    except ValueError:\n",
        "        return False\n",
        "\n",
        "def get_data(path):\n",
        "    try:\n",
        "        with open(path, \"r\") as file:\n",
        "            reader = csv.reader(file)\n",
        "            next(reader)\n",
        "            # TODO: Read content\n",
        "            global jobs_data\n",
        "            jobs_data = []\n",
        "            for row in reader:\n",
        "                job = []\n",
        "                for i in range(1, len(row) - 1):\n",
        "                    if is_number(row[i]):\n",
        "                        if i % 2 == 1:\n",
        "                            job.append((int(row[i]), int(row[i + 1])))\n",
        "                # print(job)\n",
        "                jobs_data.append(job)\n",
        "    except:\n",
        "        print(\"Error! Check the template file\")\n",
        "        return 1\n",
        "    return 0\n",
        "\n",
        "\n",
        "\n",
        "if __name__ == '__main__':\n",
        "    get_data(\"/content/estudo_google_or-tools/template/template_29job.csv\")\n",
        "    jobshop_scheduler(jobs_data)"
      ],
      "metadata": {
        "colab": {
          "base_uri": "https://localhost:8080/"
        },
        "id": "uyACWkfUblCo",
        "outputId": "63355627-9f22-4888-c668-1346d4578e0f"
      },
      "execution_count": 14,
      "outputs": [
        {
          "output_type": "stream",
          "name": "stdout",
          "text": [
            "Optimal Schedule Length: 139\n",
            "[{'Task': 'Machine 0', 'Start': 0, 'Finish': 12, 'Name': 'job_22_0', 'Job': 'Job_22'}, {'Task': 'Machine 0', 'Start': 12, 'Finish': 14, 'Name': 'job_18_0', 'Job': 'Job_18'}, {'Task': 'Machine 0', 'Start': 14, 'Finish': 15, 'Name': 'job_23_2', 'Job': 'Job_23'}, {'Task': 'Machine 0', 'Start': 15, 'Finish': 27, 'Name': 'job_21_0', 'Job': 'Job_21'}, {'Task': 'Machine 0', 'Start': 27, 'Finish': 39, 'Name': 'job_7_1', 'Job': 'Job_7'}, {'Task': 'Machine 0', 'Start': 39, 'Finish': 51, 'Name': 'job_17_0', 'Job': 'Job_17'}, {'Task': 'Machine 0', 'Start': 51, 'Finish': 63, 'Name': 'job_18_1', 'Job': 'Job_18'}, {'Task': 'Machine 0', 'Start': 63, 'Finish': 64, 'Name': 'job_10_1', 'Job': 'Job_10'}, {'Task': 'Machine 0', 'Start': 64, 'Finish': 65, 'Name': 'job_15_1', 'Job': 'Job_15'}, {'Task': 'Machine 0', 'Start': 65, 'Finish': 67, 'Name': 'job_1_0', 'Job': 'Job_1'}, {'Task': 'Machine 0', 'Start': 67, 'Finish': 69, 'Name': 'job_5_0', 'Job': 'Job_5'}, {'Task': 'Machine 0', 'Start': 69, 'Finish': 71, 'Name': 'job_14_0', 'Job': 'Job_14'}, {'Task': 'Machine 0', 'Start': 71, 'Finish': 73, 'Name': 'job_14_1', 'Job': 'Job_14'}, {'Task': 'Machine 0', 'Start': 73, 'Finish': 75, 'Name': 'job_19_1', 'Job': 'Job_19'}, {'Task': 'Machine 0', 'Start': 75, 'Finish': 78, 'Name': 'job_0_0', 'Job': 'Job_0'}, {'Task': 'Machine 0', 'Start': 78, 'Finish': 81, 'Name': 'job_4_0', 'Job': 'Job_4'}, {'Task': 'Machine 0', 'Start': 81, 'Finish': 84, 'Name': 'job_11_1', 'Job': 'Job_11'}, {'Task': 'Machine 0', 'Start': 84, 'Finish': 87, 'Name': 'job_26_2', 'Job': 'Job_26'}, {'Task': 'Machine 0', 'Start': 87, 'Finish': 99, 'Name': 'job_3_1', 'Job': 'Job_3'}, {'Task': 'Machine 0', 'Start': 99, 'Finish': 111, 'Name': 'job_25_3', 'Job': 'Job_25'}, {'Task': 'Machine 0', 'Start': 111, 'Finish': 123, 'Name': 'job_0_3', 'Job': 'Job_0'}, {'Task': 'Machine 0', 'Start': 123, 'Finish': 125, 'Name': 'job_26_3', 'Job': 'Job_26'}, {'Task': 'Machine 1', 'Start': 0, 'Finish': 2, 'Name': 'job_23_0', 'Job': 'Job_23'}, {'Task': 'Machine 1', 'Start': 2, 'Finish': 6, 'Name': 'job_2_0', 'Job': 'Job_2'}, {'Task': 'Machine 1', 'Start': 6, 'Finish': 7, 'Name': 'job_19_0', 'Job': 'Job_19'}, {'Task': 'Machine 1', 'Start': 7, 'Finish': 11, 'Name': 'job_6_0', 'Job': 'Job_6'}, {'Task': 'Machine 1', 'Start': 21, 'Finish': 36, 'Name': 'job_28_1', 'Job': 'Job_28'}, {'Task': 'Machine 1', 'Start': 36, 'Finish': 37, 'Name': 'job_27_3', 'Job': 'Job_27'}, {'Task': 'Machine 1', 'Start': 39, 'Finish': 54, 'Name': 'job_7_2', 'Job': 'Job_7'}, {'Task': 'Machine 1', 'Start': 54, 'Finish': 57, 'Name': 'job_8_2', 'Job': 'Job_8'}, {'Task': 'Machine 1', 'Start': 57, 'Finish': 60, 'Name': 'job_16_1', 'Job': 'Job_16'}, {'Task': 'Machine 1', 'Start': 68, 'Finish': 69, 'Name': 'job_20_1', 'Job': 'Job_20'}, {'Task': 'Machine 1', 'Start': 69, 'Finish': 73, 'Name': 'job_1_2', 'Job': 'Job_1'}, {'Task': 'Machine 1', 'Start': 73, 'Finish': 75, 'Name': 'job_1_3', 'Job': 'Job_1'}, {'Task': 'Machine 1', 'Start': 75, 'Finish': 79, 'Name': 'job_5_2', 'Job': 'Job_5'}, {'Task': 'Machine 1', 'Start': 79, 'Finish': 81, 'Name': 'job_0_1', 'Job': 'Job_0'}, {'Task': 'Machine 1', 'Start': 81, 'Finish': 83, 'Name': 'job_4_1', 'Job': 'Job_4'}, {'Task': 'Machine 1', 'Start': 97, 'Finish': 109, 'Name': 'job_12_1', 'Job': 'Job_12'}, {'Task': 'Machine 1', 'Start': 109, 'Finish': 124, 'Name': 'job_3_2', 'Job': 'Job_3'}, {'Task': 'Machine 1', 'Start': 124, 'Finish': 139, 'Name': 'job_0_4', 'Job': 'Job_0'}, {'Task': 'Machine 2', 'Start': 0, 'Finish': 1, 'Name': 'job_3_0', 'Job': 'Job_3'}, {'Task': 'Machine 2', 'Start': 1, 'Finish': 21, 'Name': 'job_28_0', 'Job': 'Job_28'}, {'Task': 'Machine 2', 'Start': 21, 'Finish': 24, 'Name': 'job_6_1', 'Job': 'Job_6'}, {'Task': 'Machine 2', 'Start': 24, 'Finish': 26, 'Name': 'job_22_2', 'Job': 'Job_22'}, {'Task': 'Machine 2', 'Start': 26, 'Finish': 27, 'Name': 'job_7_0', 'Job': 'Job_7'}, {'Task': 'Machine 2', 'Start': 27, 'Finish': 30, 'Name': 'job_2_1', 'Job': 'Job_2'}, {'Task': 'Machine 2', 'Start': 30, 'Finish': 33, 'Name': 'job_16_0', 'Job': 'Job_16'}, {'Task': 'Machine 2', 'Start': 33, 'Finish': 35, 'Name': 'job_9_1', 'Job': 'Job_9'}, {'Task': 'Machine 2', 'Start': 35, 'Finish': 38, 'Name': 'job_21_1', 'Job': 'Job_21'}, {'Task': 'Machine 2', 'Start': 38, 'Finish': 41, 'Name': 'job_28_3', 'Job': 'Job_28'}, {'Task': 'Machine 2', 'Start': 41, 'Finish': 53, 'Name': 'job_21_2', 'Job': 'Job_21'}, {'Task': 'Machine 2', 'Start': 53, 'Finish': 65, 'Name': 'job_17_1', 'Job': 'Job_17'}, {'Task': 'Machine 2', 'Start': 65, 'Finish': 68, 'Name': 'job_20_0', 'Job': 'Job_20'}, {'Task': 'Machine 2', 'Start': 68, 'Finish': 69, 'Name': 'job_1_1', 'Job': 'Job_1'}, {'Task': 'Machine 2', 'Start': 69, 'Finish': 70, 'Name': 'job_5_1', 'Job': 'Job_5'}, {'Task': 'Machine 2', 'Start': 70, 'Finish': 73, 'Name': 'job_25_2', 'Job': 'Job_25'}, {'Task': 'Machine 2', 'Start': 73, 'Finish': 85, 'Name': 'job_9_2', 'Job': 'Job_9'}, {'Task': 'Machine 2', 'Start': 85, 'Finish': 97, 'Name': 'job_12_0', 'Job': 'Job_12'}, {'Task': 'Machine 2', 'Start': 97, 'Finish': 99, 'Name': 'job_0_2', 'Job': 'Job_0'}, {'Task': 'Machine 2', 'Start': 99, 'Finish': 101, 'Name': 'job_1_4', 'Job': 'Job_1'}, {'Task': 'Machine 2', 'Start': 101, 'Finish': 103, 'Name': 'job_4_2', 'Job': 'Job_4'}, {'Task': 'Machine 2', 'Start': 103, 'Finish': 115, 'Name': 'job_13_0', 'Job': 'Job_13'}, {'Task': 'Machine 2', 'Start': 115, 'Finish': 127, 'Name': 'job_13_1', 'Job': 'Job_13'}, {'Task': 'Machine 2', 'Start': 127, 'Finish': 139, 'Name': 'job_28_4', 'Job': 'Job_28'}, {'Task': 'Machine 3', 'Start': 0, 'Finish': 12, 'Name': 'job_8_0', 'Job': 'Job_8'}, {'Task': 'Machine 3', 'Start': 12, 'Finish': 24, 'Name': 'job_22_1', 'Job': 'Job_22'}, {'Task': 'Machine 3', 'Start': 24, 'Finish': 27, 'Name': 'job_25_0', 'Job': 'Job_25'}, {'Task': 'Machine 3', 'Start': 36, 'Finish': 38, 'Name': 'job_28_2', 'Job': 'Job_28'}, {'Task': 'Machine 3', 'Start': 64, 'Finish': 76, 'Name': 'job_10_2', 'Job': 'Job_10'}, {'Task': 'Machine 3', 'Start': 109, 'Finish': 110, 'Name': 'job_12_2', 'Job': 'Job_12'}, {'Task': 'Machine 4', 'Start': 0, 'Finish': 1, 'Name': 'job_24_0', 'Job': 'Job_24'}, {'Task': 'Machine 4', 'Start': 2, 'Finish': 14, 'Name': 'job_23_1', 'Job': 'Job_23'}, {'Task': 'Machine 4', 'Start': 15, 'Finish': 27, 'Name': 'job_27_1', 'Job': 'Job_27'}, {'Task': 'Machine 4', 'Start': 27, 'Finish': 30, 'Name': 'job_27_2', 'Job': 'Job_27'}, {'Task': 'Machine 4', 'Start': 30, 'Finish': 32, 'Name': 'job_9_0', 'Job': 'Job_9'}, {'Task': 'Machine 4', 'Start': 63, 'Finish': 78, 'Name': 'job_18_2', 'Job': 'Job_18'}, {'Task': 'Machine 4', 'Start': 84, 'Finish': 86, 'Name': 'job_11_2', 'Job': 'Job_11'}, {'Task': 'Machine 4', 'Start': 111, 'Finish': 126, 'Name': 'job_25_4', 'Job': 'Job_25'}, {'Task': 'Machine 4', 'Start': 127, 'Finish': 130, 'Name': 'job_13_2', 'Job': 'Job_13'}, {'Task': 'Machine 5', 'Start': 0, 'Finish': 15, 'Name': 'job_27_0', 'Job': 'Job_27'}, {'Task': 'Machine 5', 'Start': 15, 'Finish': 18, 'Name': 'job_26_1', 'Job': 'Job_26'}, {'Task': 'Machine 5', 'Start': 18, 'Finish': 19, 'Name': 'job_10_0', 'Job': 'Job_10'}, {'Task': 'Machine 5', 'Start': 19, 'Finish': 21, 'Name': 'job_24_1', 'Job': 'Job_24'}, {'Task': 'Machine 5', 'Start': 73, 'Finish': 76, 'Name': 'job_14_2', 'Job': 'Job_14'}, {'Task': 'Machine 5', 'Start': 76, 'Finish': 79, 'Name': 'job_19_2', 'Job': 'Job_19'}, {'Task': 'Machine 5', 'Start': 125, 'Finish': 128, 'Name': 'job_26_4', 'Job': 'Job_26'}, {'Task': 'Machine 6', 'Start': 0, 'Finish': 12, 'Name': 'job_26_0', 'Job': 'Job_26'}, {'Task': 'Machine 6', 'Start': 12, 'Finish': 24, 'Name': 'job_8_1', 'Job': 'Job_8'}, {'Task': 'Machine 6', 'Start': 24, 'Finish': 25, 'Name': 'job_15_0', 'Job': 'Job_15'}, {'Task': 'Machine 6', 'Start': 25, 'Finish': 28, 'Name': 'job_11_0', 'Job': 'Job_11'}, {'Task': 'Machine 6', 'Start': 28, 'Finish': 29, 'Name': 'job_25_1', 'Job': 'Job_25'}, {'Task': 'Machine 6', 'Start': 29, 'Finish': 32, 'Name': 'job_24_2', 'Job': 'Job_24'}, {'Task': 'Machine 6', 'Start': 37, 'Finish': 49, 'Name': 'job_27_4', 'Job': 'Job_27'}, {'Task': 'Machine 6', 'Start': 65, 'Finish': 68, 'Name': 'job_15_2', 'Job': 'Job_15'}, {'Task': 'Machine 6', 'Start': 69, 'Finish': 81, 'Name': 'job_20_2', 'Job': 'Job_20'}]\n"
          ]
        }
      ]
    }
  ]
}