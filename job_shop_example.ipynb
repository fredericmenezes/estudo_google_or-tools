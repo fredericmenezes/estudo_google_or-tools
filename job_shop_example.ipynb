{
  "nbformat": 4,
  "nbformat_minor": 0,
  "metadata": {
    "colab": {
      "provenance": [],
      "authorship_tag": "ABX9TyPvdfivyq/brmkEFkPLk5l0",
      "include_colab_link": true
    },
    "kernelspec": {
      "name": "python3",
      "display_name": "Python 3"
    },
    "language_info": {
      "name": "python"
    }
  },
  "cells": [
    {
      "cell_type": "markdown",
      "metadata": {
        "id": "view-in-github",
        "colab_type": "text"
      },
      "source": [
        "<a href=\"https://colab.research.google.com/github/fredericmenezes/estudo_google_or-tools/blob/main/job_shop_example.ipynb\" target=\"_parent\"><img src=\"https://colab.research.google.com/assets/colab-badge.svg\" alt=\"Open In Colab\"/></a>"
      ]
    },
    {
      "cell_type": "markdown",
      "source": [
        "# job_shop_example"
      ],
      "metadata": {
        "id": "bGDbeslst-et"
      }
    },
    {
      "cell_type": "markdown",
      "source": [
        "<table align=\"left\">\n",
        "<td>\n",
        "<a href=\"https://colab.research.google.com/github/fredericmenezes/estudo_google_or-tools/blob/main/job_shop_example.ipynb\"><img src=\"https://raw.githubusercontent.com/fredericmenezes/estudo_google_or-tools/main/img/colab_32px.png\"/>Run in Google Colab</a>\n",
        "</td>\n",
        "<td>\n",
        "<a href=\"https://github.com/fredericmenezes/estudo_google_or-tools/blob/main/job_shop_example.ipynb\"><img src=\"https://raw.githubusercontent.com/fredericmenezes/estudo_google_or-tools/main/img/github_32px.png\"/>View source on GitHub</a>\n",
        "</td>\n",
        "</table>"
      ],
      "metadata": {
        "id": "Zuqi026uuQGE"
      }
    },
    {
      "cell_type": "markdown",
      "source": [
        "First, you must install [ortools](https://pypi.org/project/ortools/) package in this colab."
      ],
      "metadata": {
        "id": "A2AQ0EuVQ0sK"
      }
    },
    {
      "cell_type": "code",
      "execution_count": 2,
      "metadata": {
        "colab": {
          "base_uri": "https://localhost:8080/"
        },
        "id": "jOTPSvoktOOo",
        "outputId": "535e52bc-025f-4db4-d5c9-f8e65c51076e"
      },
      "outputs": [
        {
          "output_type": "stream",
          "name": "stdout",
          "text": [
            "Looking in indexes: https://pypi.org/simple, https://us-python.pkg.dev/colab-wheels/public/simple/\n",
            "Requirement already satisfied: ortools in /usr/local/lib/python3.8/dist-packages (9.5.2237)\n",
            "Requirement already satisfied: protobuf>=4.21.5 in /usr/local/lib/python3.8/dist-packages (from ortools) (4.22.0)\n",
            "Requirement already satisfied: absl-py>=0.13 in /usr/local/lib/python3.8/dist-packages (from ortools) (1.4.0)\n",
            "Requirement already satisfied: numpy>=1.13.3 in /usr/local/lib/python3.8/dist-packages (from ortools) (1.22.4)\n"
          ]
        }
      ],
      "source": [
        "!pip install ortools"
      ]
    },
    {
      "cell_type": "markdown",
      "source": [
        "To access the template that is stored in GitHub repository, you can clone it inside the project_folder using the following:"
      ],
      "metadata": {
        "id": "icxRyqpfaQoQ"
      }
    },
    {
      "cell_type": "code",
      "source": [
        "!git clone https://github.com/fredericmenezes/estudo_google_or-tools.git"
      ],
      "metadata": {
        "colab": {
          "base_uri": "https://localhost:8080/"
        },
        "id": "WB2mptF9awTs",
        "outputId": "01677c65-777c-49d5-b240-e78212a2db16"
      },
      "execution_count": 5,
      "outputs": [
        {
          "output_type": "stream",
          "name": "stdout",
          "text": [
            "Cloning into 'estudo_google_or-tools'...\n",
            "remote: Enumerating objects: 21, done.\u001b[K\n",
            "remote: Counting objects: 100% (21/21), done.\u001b[K\n",
            "remote: Compressing objects: 100% (16/16), done.\u001b[K\n",
            "remote: Total 21 (delta 4), reused 16 (delta 2), pack-reused 0\u001b[K\n",
            "Unpacking objects: 100% (21/21), 4.38 KiB | 1.09 MiB/s, done.\n"
          ]
        }
      ]
    },
    {
      "cell_type": "markdown",
      "source": [
        "Generic job shop function (accepts any size _m x n_ Matrix)."
      ],
      "metadata": {
        "id": "-pVdT8qlR6Nr"
      }
    },
    {
      "cell_type": "code",
      "source": [
        "import collections\n",
        "import datetime\n",
        "from ortools.sat.python import cp_model\n",
        "\n",
        "def jobshop_scheduler(jobs_data):\n",
        "    # Create the model.\n",
        "    model = cp_model.CpModel()\n",
        "\n",
        "    machines_count = 1 + max(task[0] for job in jobs_data for task in job)\n",
        "    all_machines = range(machines_count)\n",
        "\n",
        "    # Computes horizon dynamically as the sum of all durations.\n",
        "    horizon = sum(task[1] for job in jobs_data for task in job)\n",
        "\n",
        "    # Named tuple to store information about created variables.\n",
        "    task_type = collections.namedtuple('task_type', 'start end interval')\n",
        "    # Named tuple to manipulate solution information.\n",
        "    assigned_task_type = collections.namedtuple('assigned_task_type',\n",
        "                                                'start job index duration')\n",
        "\n",
        "    # Creates job intervals and add to the corresponding machine lists.\n",
        "    all_tasks = {}\n",
        "    machine_to_intervals = collections.defaultdict(list)\n",
        "\n",
        "    for job_id, job in enumerate(jobs_data):\n",
        "        for task_id, task in enumerate(job):\n",
        "            machine = task[0]\n",
        "            duration = task[1]\n",
        "            suffix = '_%i_%i' % (job_id, task_id)\n",
        "            start_var = model.NewIntVar(0, horizon, 'start' + suffix)\n",
        "            end_var = model.NewIntVar(0, horizon, 'end' + suffix)\n",
        "            interval_var = model.NewIntervalVar(start_var, duration, end_var,\n",
        "                                                'interval' + suffix)\n",
        "            all_tasks[job_id, task_id] = task_type(\n",
        "                start=start_var, end=end_var, interval=interval_var)\n",
        "            machine_to_intervals[machine].append(interval_var)\n",
        "\n",
        "    # Create and add disjunctive constraints.\n",
        "    for machine in all_machines:\n",
        "        model.AddNoOverlap(machine_to_intervals[machine])\n",
        "\n",
        "    # Precedences inside a job.\n",
        "    for job_id, job in enumerate(jobs_data):\n",
        "        for task_id in range(len(job) - 1):\n",
        "            model.Add(all_tasks[job_id, task_id +\n",
        "                                1].start >= all_tasks[job_id, task_id].end)\n",
        "\n",
        "    # Makespan objective.\n",
        "    obj_var = model.NewIntVar(0, horizon, 'makespan')\n",
        "    model.AddMaxEquality(obj_var, [\n",
        "        all_tasks[job_id, len(job) - 1].end\n",
        "        for job_id, job in enumerate(jobs_data)\n",
        "    ])\n",
        "    model.Minimize(obj_var)\n",
        "\n",
        "    # Solve model.\n",
        "    solver = cp_model.CpSolver()\n",
        "    status = solver.Solve(model)\n",
        "\n",
        "    if status == cp_model.OPTIMAL:\n",
        "        # Create one list of assigned tasks per machine.\n",
        "        assigned_jobs = collections.defaultdict(list)\n",
        "        for job_id, job in enumerate(jobs_data):\n",
        "            for task_id, task in enumerate(job):\n",
        "                machine = task[0]\n",
        "                assigned_jobs[machine].append(\n",
        "                    assigned_task_type(\n",
        "                        start=solver.Value(all_tasks[job_id, task_id].start),\n",
        "                        job=job_id,\n",
        "                        index=task_id,\n",
        "                        duration=task[1]))\n",
        "\n",
        "        # Create per machine output lines.\n",
        "        date = datetime.datetime(2020, 1, 1, 6, 0, 0)\n",
        "        output = []\n",
        "        for machine in all_machines:\n",
        "            # Sort by starting time.\n",
        "            assigned_jobs[machine].sort()\n",
        "\n",
        "            for assigned_task in assigned_jobs[machine]:\n",
        "                name = 'job_%i_%i' % (assigned_task.job, assigned_task.index)\n",
        "\n",
        "                start = date + datetime.timedelta(minutes=assigned_task.start)\n",
        "                finish = date + datetime.timedelta(minutes=assigned_task.start + assigned_task.duration)\n",
        "\n",
        "                output.append(dict(Task='Machine ' + str(machine), Start=start, Finish=finish, Name=name,\n",
        "                                   Job='Job_' + str(assigned_task.job)))\n",
        "\n",
        "        # Finally print the solution found.\n",
        "        print('Optimal Schedule Length: %i' % solver.ObjectiveValue())\n",
        "        print(output)\n",
        "\n",
        "    return output"
      ],
      "metadata": {
        "id": "6mOc9n4JR9VD"
      },
      "execution_count": 3,
      "outputs": []
    },
    {
      "cell_type": "markdown",
      "source": [
        "Minimal jobshop example."
      ],
      "metadata": {
        "id": "HbhXN4z7SjaQ"
      }
    },
    {
      "cell_type": "code",
      "source": [
        "if __name__ == '__main__':\n",
        "\n",
        "    # Data.\n",
        "    jobs_data = [  # task = (machine_id, processing_time).\n",
        "        [(0, 3), (1, 2), (2, 2)],  # Job0\n",
        "        [(0, 2), (2, 1), (1, 4)],  # Job1\n",
        "        [(1, 4), (2, 3)]  # Job2\n",
        "    ]\n",
        "\n",
        "    jobshop_scheduler(jobs_data)"
      ],
      "metadata": {
        "colab": {
          "base_uri": "https://localhost:8080/"
        },
        "id": "hILhX1PZSPJN",
        "outputId": "6c2c96e9-41f9-4d37-a6a3-f55fe2de30aa"
      },
      "execution_count": 4,
      "outputs": [
        {
          "output_type": "stream",
          "name": "stdout",
          "text": [
            "Optimal Schedule Length: 11\n",
            "[{'Task': 'Machine 0', 'Start': datetime.datetime(2020, 1, 1, 6, 0), 'Finish': datetime.datetime(2020, 1, 1, 6, 2), 'Name': 'job_1_0', 'Job': 'Job_1'}, {'Task': 'Machine 0', 'Start': datetime.datetime(2020, 1, 1, 6, 2), 'Finish': datetime.datetime(2020, 1, 1, 6, 5), 'Name': 'job_0_0', 'Job': 'Job_0'}, {'Task': 'Machine 1', 'Start': datetime.datetime(2020, 1, 1, 6, 0), 'Finish': datetime.datetime(2020, 1, 1, 6, 4), 'Name': 'job_2_0', 'Job': 'Job_2'}, {'Task': 'Machine 1', 'Start': datetime.datetime(2020, 1, 1, 6, 5), 'Finish': datetime.datetime(2020, 1, 1, 6, 7), 'Name': 'job_0_1', 'Job': 'Job_0'}, {'Task': 'Machine 1', 'Start': datetime.datetime(2020, 1, 1, 6, 7), 'Finish': datetime.datetime(2020, 1, 1, 6, 11), 'Name': 'job_1_2', 'Job': 'Job_1'}, {'Task': 'Machine 2', 'Start': datetime.datetime(2020, 1, 1, 6, 2), 'Finish': datetime.datetime(2020, 1, 1, 6, 3), 'Name': 'job_1_1', 'Job': 'Job_1'}, {'Task': 'Machine 2', 'Start': datetime.datetime(2020, 1, 1, 6, 4), 'Finish': datetime.datetime(2020, 1, 1, 6, 7), 'Name': 'job_2_1', 'Job': 'Job_2'}, {'Task': 'Machine 2', 'Start': datetime.datetime(2020, 1, 1, 6, 7), 'Finish': datetime.datetime(2020, 1, 1, 6, 9), 'Name': 'job_0_2', 'Job': 'Job_0'}]\n"
          ]
        }
      ]
    },
    {
      "cell_type": "markdown",
      "source": [
        "Another example using csv templates."
      ],
      "metadata": {
        "id": "r2ipClt8baRn"
      }
    },
    {
      "cell_type": "code",
      "source": [
        "import csv\n",
        "\n",
        "def is_number(string):\n",
        "    try:\n",
        "        int(string)\n",
        "        return True\n",
        "    except ValueError:\n",
        "        return False\n",
        "\n",
        "def get_data(path):\n",
        "    try:\n",
        "        with open(path, \"r\") as file:\n",
        "            reader = csv.reader(file)\n",
        "            next(reader)\n",
        "            # TODO: Read content\n",
        "            global jobs_data\n",
        "            jobs_data = []\n",
        "            for row in reader:\n",
        "                job = []\n",
        "                for i in range(1, len(row) - 1):\n",
        "                    if is_number(row[i]):\n",
        "                        if i % 2 == 1:\n",
        "                            job.append((int(row[i]), int(row[i + 1])))\n",
        "                # print(job)\n",
        "                jobs_data.append(job)\n",
        "    except:\n",
        "        print(\"Error! Check the template file\")\n",
        "        return 1\n",
        "    return 0\n",
        "\n",
        "\n",
        "\n",
        "if __name__ == '__main__':\n",
        "    get_data(\"/content/estudo_google_or-tools/template/template_29job.csv\")\n",
        "    jobshop_scheduler(jobs_data)"
      ],
      "metadata": {
        "colab": {
          "base_uri": "https://localhost:8080/"
        },
        "id": "uyACWkfUblCo",
        "outputId": "63efd1ad-0d92-4a18-e800-383aa15ca097"
      },
      "execution_count": 6,
      "outputs": [
        {
          "output_type": "stream",
          "name": "stdout",
          "text": [
            "Optimal Schedule Length: 139\n",
            "[{'Task': 'Machine 0', 'Start': datetime.datetime(2020, 1, 1, 6, 0), 'Finish': datetime.datetime(2020, 1, 1, 6, 12), 'Name': 'job_22_0', 'Job': 'Job_22'}, {'Task': 'Machine 0', 'Start': datetime.datetime(2020, 1, 1, 6, 12), 'Finish': datetime.datetime(2020, 1, 1, 6, 14), 'Name': 'job_18_0', 'Job': 'Job_18'}, {'Task': 'Machine 0', 'Start': datetime.datetime(2020, 1, 1, 6, 14), 'Finish': datetime.datetime(2020, 1, 1, 6, 15), 'Name': 'job_23_2', 'Job': 'Job_23'}, {'Task': 'Machine 0', 'Start': datetime.datetime(2020, 1, 1, 6, 15), 'Finish': datetime.datetime(2020, 1, 1, 6, 27), 'Name': 'job_21_0', 'Job': 'Job_21'}, {'Task': 'Machine 0', 'Start': datetime.datetime(2020, 1, 1, 6, 27), 'Finish': datetime.datetime(2020, 1, 1, 6, 39), 'Name': 'job_7_1', 'Job': 'Job_7'}, {'Task': 'Machine 0', 'Start': datetime.datetime(2020, 1, 1, 6, 39), 'Finish': datetime.datetime(2020, 1, 1, 6, 51), 'Name': 'job_17_0', 'Job': 'Job_17'}, {'Task': 'Machine 0', 'Start': datetime.datetime(2020, 1, 1, 6, 51), 'Finish': datetime.datetime(2020, 1, 1, 7, 3), 'Name': 'job_18_1', 'Job': 'Job_18'}, {'Task': 'Machine 0', 'Start': datetime.datetime(2020, 1, 1, 7, 3), 'Finish': datetime.datetime(2020, 1, 1, 7, 4), 'Name': 'job_10_1', 'Job': 'Job_10'}, {'Task': 'Machine 0', 'Start': datetime.datetime(2020, 1, 1, 7, 4), 'Finish': datetime.datetime(2020, 1, 1, 7, 5), 'Name': 'job_15_1', 'Job': 'Job_15'}, {'Task': 'Machine 0', 'Start': datetime.datetime(2020, 1, 1, 7, 5), 'Finish': datetime.datetime(2020, 1, 1, 7, 7), 'Name': 'job_1_0', 'Job': 'Job_1'}, {'Task': 'Machine 0', 'Start': datetime.datetime(2020, 1, 1, 7, 7), 'Finish': datetime.datetime(2020, 1, 1, 7, 9), 'Name': 'job_5_0', 'Job': 'Job_5'}, {'Task': 'Machine 0', 'Start': datetime.datetime(2020, 1, 1, 7, 9), 'Finish': datetime.datetime(2020, 1, 1, 7, 11), 'Name': 'job_14_0', 'Job': 'Job_14'}, {'Task': 'Machine 0', 'Start': datetime.datetime(2020, 1, 1, 7, 11), 'Finish': datetime.datetime(2020, 1, 1, 7, 13), 'Name': 'job_14_1', 'Job': 'Job_14'}, {'Task': 'Machine 0', 'Start': datetime.datetime(2020, 1, 1, 7, 13), 'Finish': datetime.datetime(2020, 1, 1, 7, 15), 'Name': 'job_19_1', 'Job': 'Job_19'}, {'Task': 'Machine 0', 'Start': datetime.datetime(2020, 1, 1, 7, 15), 'Finish': datetime.datetime(2020, 1, 1, 7, 18), 'Name': 'job_0_0', 'Job': 'Job_0'}, {'Task': 'Machine 0', 'Start': datetime.datetime(2020, 1, 1, 7, 18), 'Finish': datetime.datetime(2020, 1, 1, 7, 21), 'Name': 'job_4_0', 'Job': 'Job_4'}, {'Task': 'Machine 0', 'Start': datetime.datetime(2020, 1, 1, 7, 21), 'Finish': datetime.datetime(2020, 1, 1, 7, 24), 'Name': 'job_11_1', 'Job': 'Job_11'}, {'Task': 'Machine 0', 'Start': datetime.datetime(2020, 1, 1, 7, 24), 'Finish': datetime.datetime(2020, 1, 1, 7, 27), 'Name': 'job_26_2', 'Job': 'Job_26'}, {'Task': 'Machine 0', 'Start': datetime.datetime(2020, 1, 1, 7, 27), 'Finish': datetime.datetime(2020, 1, 1, 7, 39), 'Name': 'job_3_1', 'Job': 'Job_3'}, {'Task': 'Machine 0', 'Start': datetime.datetime(2020, 1, 1, 7, 39), 'Finish': datetime.datetime(2020, 1, 1, 7, 51), 'Name': 'job_25_3', 'Job': 'Job_25'}, {'Task': 'Machine 0', 'Start': datetime.datetime(2020, 1, 1, 7, 51), 'Finish': datetime.datetime(2020, 1, 1, 8, 3), 'Name': 'job_0_3', 'Job': 'Job_0'}, {'Task': 'Machine 0', 'Start': datetime.datetime(2020, 1, 1, 8, 3), 'Finish': datetime.datetime(2020, 1, 1, 8, 5), 'Name': 'job_26_3', 'Job': 'Job_26'}, {'Task': 'Machine 1', 'Start': datetime.datetime(2020, 1, 1, 6, 0), 'Finish': datetime.datetime(2020, 1, 1, 6, 2), 'Name': 'job_23_0', 'Job': 'Job_23'}, {'Task': 'Machine 1', 'Start': datetime.datetime(2020, 1, 1, 6, 2), 'Finish': datetime.datetime(2020, 1, 1, 6, 6), 'Name': 'job_2_0', 'Job': 'Job_2'}, {'Task': 'Machine 1', 'Start': datetime.datetime(2020, 1, 1, 6, 6), 'Finish': datetime.datetime(2020, 1, 1, 6, 7), 'Name': 'job_19_0', 'Job': 'Job_19'}, {'Task': 'Machine 1', 'Start': datetime.datetime(2020, 1, 1, 6, 7), 'Finish': datetime.datetime(2020, 1, 1, 6, 11), 'Name': 'job_6_0', 'Job': 'Job_6'}, {'Task': 'Machine 1', 'Start': datetime.datetime(2020, 1, 1, 6, 21), 'Finish': datetime.datetime(2020, 1, 1, 6, 36), 'Name': 'job_28_1', 'Job': 'Job_28'}, {'Task': 'Machine 1', 'Start': datetime.datetime(2020, 1, 1, 6, 36), 'Finish': datetime.datetime(2020, 1, 1, 6, 37), 'Name': 'job_27_3', 'Job': 'Job_27'}, {'Task': 'Machine 1', 'Start': datetime.datetime(2020, 1, 1, 6, 39), 'Finish': datetime.datetime(2020, 1, 1, 6, 54), 'Name': 'job_7_2', 'Job': 'Job_7'}, {'Task': 'Machine 1', 'Start': datetime.datetime(2020, 1, 1, 6, 54), 'Finish': datetime.datetime(2020, 1, 1, 6, 57), 'Name': 'job_8_2', 'Job': 'Job_8'}, {'Task': 'Machine 1', 'Start': datetime.datetime(2020, 1, 1, 6, 57), 'Finish': datetime.datetime(2020, 1, 1, 7, 0), 'Name': 'job_16_1', 'Job': 'Job_16'}, {'Task': 'Machine 1', 'Start': datetime.datetime(2020, 1, 1, 7, 8), 'Finish': datetime.datetime(2020, 1, 1, 7, 9), 'Name': 'job_20_1', 'Job': 'Job_20'}, {'Task': 'Machine 1', 'Start': datetime.datetime(2020, 1, 1, 7, 9), 'Finish': datetime.datetime(2020, 1, 1, 7, 13), 'Name': 'job_1_2', 'Job': 'Job_1'}, {'Task': 'Machine 1', 'Start': datetime.datetime(2020, 1, 1, 7, 13), 'Finish': datetime.datetime(2020, 1, 1, 7, 15), 'Name': 'job_1_3', 'Job': 'Job_1'}, {'Task': 'Machine 1', 'Start': datetime.datetime(2020, 1, 1, 7, 15), 'Finish': datetime.datetime(2020, 1, 1, 7, 19), 'Name': 'job_5_2', 'Job': 'Job_5'}, {'Task': 'Machine 1', 'Start': datetime.datetime(2020, 1, 1, 7, 19), 'Finish': datetime.datetime(2020, 1, 1, 7, 21), 'Name': 'job_0_1', 'Job': 'Job_0'}, {'Task': 'Machine 1', 'Start': datetime.datetime(2020, 1, 1, 7, 21), 'Finish': datetime.datetime(2020, 1, 1, 7, 23), 'Name': 'job_4_1', 'Job': 'Job_4'}, {'Task': 'Machine 1', 'Start': datetime.datetime(2020, 1, 1, 7, 37), 'Finish': datetime.datetime(2020, 1, 1, 7, 49), 'Name': 'job_12_1', 'Job': 'Job_12'}, {'Task': 'Machine 1', 'Start': datetime.datetime(2020, 1, 1, 7, 49), 'Finish': datetime.datetime(2020, 1, 1, 8, 4), 'Name': 'job_3_2', 'Job': 'Job_3'}, {'Task': 'Machine 1', 'Start': datetime.datetime(2020, 1, 1, 8, 4), 'Finish': datetime.datetime(2020, 1, 1, 8, 19), 'Name': 'job_0_4', 'Job': 'Job_0'}, {'Task': 'Machine 2', 'Start': datetime.datetime(2020, 1, 1, 6, 0), 'Finish': datetime.datetime(2020, 1, 1, 6, 1), 'Name': 'job_3_0', 'Job': 'Job_3'}, {'Task': 'Machine 2', 'Start': datetime.datetime(2020, 1, 1, 6, 1), 'Finish': datetime.datetime(2020, 1, 1, 6, 21), 'Name': 'job_28_0', 'Job': 'Job_28'}, {'Task': 'Machine 2', 'Start': datetime.datetime(2020, 1, 1, 6, 21), 'Finish': datetime.datetime(2020, 1, 1, 6, 24), 'Name': 'job_6_1', 'Job': 'Job_6'}, {'Task': 'Machine 2', 'Start': datetime.datetime(2020, 1, 1, 6, 24), 'Finish': datetime.datetime(2020, 1, 1, 6, 26), 'Name': 'job_22_2', 'Job': 'Job_22'}, {'Task': 'Machine 2', 'Start': datetime.datetime(2020, 1, 1, 6, 26), 'Finish': datetime.datetime(2020, 1, 1, 6, 27), 'Name': 'job_7_0', 'Job': 'Job_7'}, {'Task': 'Machine 2', 'Start': datetime.datetime(2020, 1, 1, 6, 27), 'Finish': datetime.datetime(2020, 1, 1, 6, 30), 'Name': 'job_2_1', 'Job': 'Job_2'}, {'Task': 'Machine 2', 'Start': datetime.datetime(2020, 1, 1, 6, 30), 'Finish': datetime.datetime(2020, 1, 1, 6, 33), 'Name': 'job_16_0', 'Job': 'Job_16'}, {'Task': 'Machine 2', 'Start': datetime.datetime(2020, 1, 1, 6, 33), 'Finish': datetime.datetime(2020, 1, 1, 6, 35), 'Name': 'job_9_1', 'Job': 'Job_9'}, {'Task': 'Machine 2', 'Start': datetime.datetime(2020, 1, 1, 6, 35), 'Finish': datetime.datetime(2020, 1, 1, 6, 38), 'Name': 'job_21_1', 'Job': 'Job_21'}, {'Task': 'Machine 2', 'Start': datetime.datetime(2020, 1, 1, 6, 38), 'Finish': datetime.datetime(2020, 1, 1, 6, 41), 'Name': 'job_28_3', 'Job': 'Job_28'}, {'Task': 'Machine 2', 'Start': datetime.datetime(2020, 1, 1, 6, 41), 'Finish': datetime.datetime(2020, 1, 1, 6, 53), 'Name': 'job_21_2', 'Job': 'Job_21'}, {'Task': 'Machine 2', 'Start': datetime.datetime(2020, 1, 1, 6, 53), 'Finish': datetime.datetime(2020, 1, 1, 7, 5), 'Name': 'job_17_1', 'Job': 'Job_17'}, {'Task': 'Machine 2', 'Start': datetime.datetime(2020, 1, 1, 7, 5), 'Finish': datetime.datetime(2020, 1, 1, 7, 8), 'Name': 'job_20_0', 'Job': 'Job_20'}, {'Task': 'Machine 2', 'Start': datetime.datetime(2020, 1, 1, 7, 8), 'Finish': datetime.datetime(2020, 1, 1, 7, 9), 'Name': 'job_1_1', 'Job': 'Job_1'}, {'Task': 'Machine 2', 'Start': datetime.datetime(2020, 1, 1, 7, 9), 'Finish': datetime.datetime(2020, 1, 1, 7, 10), 'Name': 'job_5_1', 'Job': 'Job_5'}, {'Task': 'Machine 2', 'Start': datetime.datetime(2020, 1, 1, 7, 10), 'Finish': datetime.datetime(2020, 1, 1, 7, 13), 'Name': 'job_25_2', 'Job': 'Job_25'}, {'Task': 'Machine 2', 'Start': datetime.datetime(2020, 1, 1, 7, 13), 'Finish': datetime.datetime(2020, 1, 1, 7, 25), 'Name': 'job_9_2', 'Job': 'Job_9'}, {'Task': 'Machine 2', 'Start': datetime.datetime(2020, 1, 1, 7, 25), 'Finish': datetime.datetime(2020, 1, 1, 7, 37), 'Name': 'job_12_0', 'Job': 'Job_12'}, {'Task': 'Machine 2', 'Start': datetime.datetime(2020, 1, 1, 7, 37), 'Finish': datetime.datetime(2020, 1, 1, 7, 39), 'Name': 'job_0_2', 'Job': 'Job_0'}, {'Task': 'Machine 2', 'Start': datetime.datetime(2020, 1, 1, 7, 39), 'Finish': datetime.datetime(2020, 1, 1, 7, 41), 'Name': 'job_1_4', 'Job': 'Job_1'}, {'Task': 'Machine 2', 'Start': datetime.datetime(2020, 1, 1, 7, 41), 'Finish': datetime.datetime(2020, 1, 1, 7, 43), 'Name': 'job_4_2', 'Job': 'Job_4'}, {'Task': 'Machine 2', 'Start': datetime.datetime(2020, 1, 1, 7, 43), 'Finish': datetime.datetime(2020, 1, 1, 7, 55), 'Name': 'job_13_0', 'Job': 'Job_13'}, {'Task': 'Machine 2', 'Start': datetime.datetime(2020, 1, 1, 7, 55), 'Finish': datetime.datetime(2020, 1, 1, 8, 7), 'Name': 'job_13_1', 'Job': 'Job_13'}, {'Task': 'Machine 2', 'Start': datetime.datetime(2020, 1, 1, 8, 7), 'Finish': datetime.datetime(2020, 1, 1, 8, 19), 'Name': 'job_28_4', 'Job': 'Job_28'}, {'Task': 'Machine 3', 'Start': datetime.datetime(2020, 1, 1, 6, 0), 'Finish': datetime.datetime(2020, 1, 1, 6, 12), 'Name': 'job_8_0', 'Job': 'Job_8'}, {'Task': 'Machine 3', 'Start': datetime.datetime(2020, 1, 1, 6, 12), 'Finish': datetime.datetime(2020, 1, 1, 6, 24), 'Name': 'job_22_1', 'Job': 'Job_22'}, {'Task': 'Machine 3', 'Start': datetime.datetime(2020, 1, 1, 6, 24), 'Finish': datetime.datetime(2020, 1, 1, 6, 27), 'Name': 'job_25_0', 'Job': 'Job_25'}, {'Task': 'Machine 3', 'Start': datetime.datetime(2020, 1, 1, 6, 36), 'Finish': datetime.datetime(2020, 1, 1, 6, 38), 'Name': 'job_28_2', 'Job': 'Job_28'}, {'Task': 'Machine 3', 'Start': datetime.datetime(2020, 1, 1, 7, 4), 'Finish': datetime.datetime(2020, 1, 1, 7, 16), 'Name': 'job_10_2', 'Job': 'Job_10'}, {'Task': 'Machine 3', 'Start': datetime.datetime(2020, 1, 1, 7, 49), 'Finish': datetime.datetime(2020, 1, 1, 7, 50), 'Name': 'job_12_2', 'Job': 'Job_12'}, {'Task': 'Machine 4', 'Start': datetime.datetime(2020, 1, 1, 6, 0), 'Finish': datetime.datetime(2020, 1, 1, 6, 1), 'Name': 'job_24_0', 'Job': 'Job_24'}, {'Task': 'Machine 4', 'Start': datetime.datetime(2020, 1, 1, 6, 2), 'Finish': datetime.datetime(2020, 1, 1, 6, 14), 'Name': 'job_23_1', 'Job': 'Job_23'}, {'Task': 'Machine 4', 'Start': datetime.datetime(2020, 1, 1, 6, 15), 'Finish': datetime.datetime(2020, 1, 1, 6, 27), 'Name': 'job_27_1', 'Job': 'Job_27'}, {'Task': 'Machine 4', 'Start': datetime.datetime(2020, 1, 1, 6, 27), 'Finish': datetime.datetime(2020, 1, 1, 6, 30), 'Name': 'job_27_2', 'Job': 'Job_27'}, {'Task': 'Machine 4', 'Start': datetime.datetime(2020, 1, 1, 6, 30), 'Finish': datetime.datetime(2020, 1, 1, 6, 32), 'Name': 'job_9_0', 'Job': 'Job_9'}, {'Task': 'Machine 4', 'Start': datetime.datetime(2020, 1, 1, 7, 3), 'Finish': datetime.datetime(2020, 1, 1, 7, 18), 'Name': 'job_18_2', 'Job': 'Job_18'}, {'Task': 'Machine 4', 'Start': datetime.datetime(2020, 1, 1, 7, 24), 'Finish': datetime.datetime(2020, 1, 1, 7, 26), 'Name': 'job_11_2', 'Job': 'Job_11'}, {'Task': 'Machine 4', 'Start': datetime.datetime(2020, 1, 1, 7, 51), 'Finish': datetime.datetime(2020, 1, 1, 8, 6), 'Name': 'job_25_4', 'Job': 'Job_25'}, {'Task': 'Machine 4', 'Start': datetime.datetime(2020, 1, 1, 8, 7), 'Finish': datetime.datetime(2020, 1, 1, 8, 10), 'Name': 'job_13_2', 'Job': 'Job_13'}, {'Task': 'Machine 5', 'Start': datetime.datetime(2020, 1, 1, 6, 0), 'Finish': datetime.datetime(2020, 1, 1, 6, 15), 'Name': 'job_27_0', 'Job': 'Job_27'}, {'Task': 'Machine 5', 'Start': datetime.datetime(2020, 1, 1, 6, 15), 'Finish': datetime.datetime(2020, 1, 1, 6, 18), 'Name': 'job_26_1', 'Job': 'Job_26'}, {'Task': 'Machine 5', 'Start': datetime.datetime(2020, 1, 1, 6, 18), 'Finish': datetime.datetime(2020, 1, 1, 6, 19), 'Name': 'job_10_0', 'Job': 'Job_10'}, {'Task': 'Machine 5', 'Start': datetime.datetime(2020, 1, 1, 6, 19), 'Finish': datetime.datetime(2020, 1, 1, 6, 21), 'Name': 'job_24_1', 'Job': 'Job_24'}, {'Task': 'Machine 5', 'Start': datetime.datetime(2020, 1, 1, 7, 13), 'Finish': datetime.datetime(2020, 1, 1, 7, 16), 'Name': 'job_14_2', 'Job': 'Job_14'}, {'Task': 'Machine 5', 'Start': datetime.datetime(2020, 1, 1, 7, 16), 'Finish': datetime.datetime(2020, 1, 1, 7, 19), 'Name': 'job_19_2', 'Job': 'Job_19'}, {'Task': 'Machine 5', 'Start': datetime.datetime(2020, 1, 1, 8, 5), 'Finish': datetime.datetime(2020, 1, 1, 8, 8), 'Name': 'job_26_4', 'Job': 'Job_26'}, {'Task': 'Machine 6', 'Start': datetime.datetime(2020, 1, 1, 6, 0), 'Finish': datetime.datetime(2020, 1, 1, 6, 12), 'Name': 'job_26_0', 'Job': 'Job_26'}, {'Task': 'Machine 6', 'Start': datetime.datetime(2020, 1, 1, 6, 12), 'Finish': datetime.datetime(2020, 1, 1, 6, 24), 'Name': 'job_8_1', 'Job': 'Job_8'}, {'Task': 'Machine 6', 'Start': datetime.datetime(2020, 1, 1, 6, 24), 'Finish': datetime.datetime(2020, 1, 1, 6, 25), 'Name': 'job_15_0', 'Job': 'Job_15'}, {'Task': 'Machine 6', 'Start': datetime.datetime(2020, 1, 1, 6, 25), 'Finish': datetime.datetime(2020, 1, 1, 6, 28), 'Name': 'job_11_0', 'Job': 'Job_11'}, {'Task': 'Machine 6', 'Start': datetime.datetime(2020, 1, 1, 6, 28), 'Finish': datetime.datetime(2020, 1, 1, 6, 29), 'Name': 'job_25_1', 'Job': 'Job_25'}, {'Task': 'Machine 6', 'Start': datetime.datetime(2020, 1, 1, 6, 29), 'Finish': datetime.datetime(2020, 1, 1, 6, 32), 'Name': 'job_24_2', 'Job': 'Job_24'}, {'Task': 'Machine 6', 'Start': datetime.datetime(2020, 1, 1, 6, 37), 'Finish': datetime.datetime(2020, 1, 1, 6, 49), 'Name': 'job_27_4', 'Job': 'Job_27'}, {'Task': 'Machine 6', 'Start': datetime.datetime(2020, 1, 1, 7, 5), 'Finish': datetime.datetime(2020, 1, 1, 7, 8), 'Name': 'job_15_2', 'Job': 'Job_15'}, {'Task': 'Machine 6', 'Start': datetime.datetime(2020, 1, 1, 7, 9), 'Finish': datetime.datetime(2020, 1, 1, 7, 21), 'Name': 'job_20_2', 'Job': 'Job_20'}]\n"
          ]
        }
      ]
    }
  ]
}