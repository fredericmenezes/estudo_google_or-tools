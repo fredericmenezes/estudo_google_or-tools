{
  "nbformat": 4,
  "nbformat_minor": 0,
  "metadata": {
    "colab": {
      "provenance": [],
      "authorship_tag": "ABX9TyPUfW/0Tp4AzgEcLdChaacZ",
      "include_colab_link": true
    },
    "kernelspec": {
      "name": "python3",
      "display_name": "Python 3"
    },
    "language_info": {
      "name": "python"
    }
  },
  "cells": [
    {
      "cell_type": "markdown",
      "metadata": {
        "id": "view-in-github",
        "colab_type": "text"
      },
      "source": [
        "<a href=\"https://colab.research.google.com/github/fredericmenezes/estudo_google_or-tools/blob/main/job_shop_example.ipynb\" target=\"_parent\"><img src=\"https://colab.research.google.com/assets/colab-badge.svg\" alt=\"Open In Colab\"/></a>"
      ]
    },
    {
      "cell_type": "markdown",
      "source": [
        "# job_shop_example"
      ],
      "metadata": {
        "id": "bGDbeslst-et"
      }
    },
    {
      "cell_type": "markdown",
      "source": [
        "<table align=\"left\">\n",
        "<td>\n",
        "<a href=\"https://colab.research.google.com/github/google/or-tools/blob/main/examples/notebook/linear_solver/linear_programming_example.ipynb\"><img src=\"https://raw.githubusercontent.com/google/or-tools/main/tools/colab_32px.png\"/>Run in Google Colab</a>\n",
        "</td>\n",
        "<td>\n",
        "<a href=\"https://github.com/google/or-tools/blob/main/ortools/linear_solver/samples/linear_programming_example.py\"><img src=\"https://raw.githubusercontent.com/google/or-tools/main/tools/github_32px.png\"/>View source on GitHub</a>\n",
        "</td>\n",
        "</table>"
      ],
      "metadata": {
        "id": "Zuqi026uuQGE"
      }
    },
    {
      "cell_type": "code",
      "execution_count": null,
      "metadata": {
        "id": "jOTPSvoktOOo"
      },
      "outputs": [],
      "source": []
    }
  ]
}